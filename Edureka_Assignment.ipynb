{
  "nbformat": 4,
  "nbformat_minor": 0,
  "metadata": {
    "colab": {
      "provenance": []
    },
    "kernelspec": {
      "name": "python3",
      "display_name": "Python 3"
    },
    "language_info": {
      "name": "python"
    }
  },
  "cells": [
    {
      "cell_type": "code",
      "execution_count": null,
      "metadata": {
        "colab": {
          "base_uri": "https://localhost:8080/"
        },
        "id": "DjO_XeWn-qXt",
        "outputId": "612d92c1-92d7-492e-9937-87cf31e160a5"
      },
      "outputs": [
        {
          "output_type": "stream",
          "name": "stdout",
          "text": [
            "Enter marks for subject 1: 134\n",
            "Enter marks for subject 2: 53\n",
            "Enter marks for subject 3: 12\n",
            "Enter marks for subject 4: 90\n",
            "Enter marks for subject 5: 34\n",
            "Enter marks for subject 6: 64\n",
            "\n",
            "Results:\n",
            "Total Marks: 387\n",
            "Average Marks: 64.5\n",
            "Percentage: 64.5 %\n"
          ]
        }
      ],
      "source": [
        "# prompt: Write a Python program that takes marks as input for six subjects, with\n",
        "# maximum marks being 600, and prints total marks, average marks, and\n",
        "# percentages obtained by a student\n",
        "\n",
        "def calculate_results():\n",
        "  \"\"\"Takes marks for six subjects and calculates total, average, and percentage.\"\"\"\n",
        "\n",
        "  try:\n",
        "    subject1 = int(input(\"Enter marks for subject 1: \"))\n",
        "    subject2 = int(input(\"Enter marks for subject 2: \"))\n",
        "    subject3 = int(input(\"Enter marks for subject 3: \"))\n",
        "    subject4 = int(input(\"Enter marks for subject 4: \"))\n",
        "    subject5 = int(input(\"Enter marks for subject 5: \"))\n",
        "    subject6 = int(input(\"Enter marks for subject 6: \"))\n",
        "\n",
        "    total_marks = subject1 + subject2 + subject3 + subject4 + subject5 + subject6\n",
        "    average_marks = total_marks / 6\n",
        "    percentage = (total_marks / 600) * 100\n",
        "\n",
        "    print(\"\\nResults:\")\n",
        "    print(\"Total Marks:\", total_marks)\n",
        "    print(\"Average Marks:\", average_marks)\n",
        "    print(\"Percentage:\", percentage, \"%\")\n",
        "\n",
        "  except ValueError:\n",
        "    print(\"Invalid input. Please enter numerical values for marks.\")\n",
        "\n",
        "\n",
        "if __name__ == \"__main__\":\n",
        "  calculate_results()\n"
      ]
    },
    {
      "cell_type": "code",
      "source": [
        "# prompt: Write a Python program that takes marks as input for any subjects, with each subject scored out of 100\n",
        "# maximum marks being 100 times the number of subjects, and prints total marks, average marks, and\n",
        "# percentages obtained by a student\n",
        "\n",
        "def calculate_results():\n",
        "  \"\"\"Takes marks for any number of subjects and calculates total, average, and percentage.\"\"\"\n",
        "\n",
        "  try:\n",
        "    num_subjects = int(input(\"Enter the number of subjects: \"))\n",
        "    total_marks = 0\n",
        "    for i in range(num_subjects):\n",
        "      subject_marks = int(input(f\"Enter marks for subject {i+1}: \"))\n",
        "      total_marks += subject_marks\n",
        "\n",
        "    average_marks = total_marks / num_subjects\n",
        "    percentage = (total_marks / (num_subjects * 100)) * 100\n",
        "\n",
        "    print(\"\\nResults:\")\n",
        "    print(\"Total Marks:\", total_marks)\n",
        "    print(\"Average Marks:\", average_marks)\n",
        "    print(\"Percentage:\", percentage, \"%\")\n",
        "\n",
        "  except ValueError:\n",
        "    print(\"Invalid input. Please enter numerical values for marks and the number of subjects.\")\n",
        "\n",
        "\n",
        "if __name__ == \"__main__\":\n",
        "  calculate_results()\n"
      ],
      "metadata": {
        "colab": {
          "base_uri": "https://localhost:8080/"
        },
        "id": "xHOjFxBqA0W4",
        "outputId": "dcb94385-dea8-4e95-d1f9-7b9e5292ac55"
      },
      "execution_count": null,
      "outputs": [
        {
          "output_type": "stream",
          "name": "stdout",
          "text": [
            "Enter the number of subjects: 2\n",
            "Enter marks for subject 1: 43\n",
            "Enter marks for subject 2: 76\n",
            "\n",
            "Results:\n",
            "Total Marks: 119\n",
            "Average Marks: 59.5\n",
            "Percentage: 59.5 %\n"
          ]
        }
      ]
    },
    {
      "cell_type": "code",
      "source": [],
      "metadata": {
        "id": "AWwNUM3HBLX4"
      },
      "execution_count": null,
      "outputs": []
    }
  ]
}